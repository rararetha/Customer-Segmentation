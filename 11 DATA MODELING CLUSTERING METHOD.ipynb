{
 "cells": [
  {
   "cell_type": "markdown",
   "metadata": {},
   "source": [
    "# Daftar Isi\n",
    "> 1. Definisi \n",
    "> 2. Tipe Clustering \n",
    "> 3. Aplikasi Clustering\n",
    "> 4. Hands-On Customer Segmentation K-Means & Hierarchical"
   ]
  },
  {
   "cell_type": "markdown",
   "metadata": {},
   "source": [
    "### 1. Definisi\n",
    "- Clustering adalah teknik data mining yang berfungsi untuk membagi data menjadi satu kelas / klaster berdasarkan karakteristik  \n",
    "- Fungsi Clustering adalah mengelompokkan N data menjadi k class berdasarkan tingkat kemiripan melalui perhitungan jarak \n",
    "- perhitungan jarak yang dipakai umumnya menggunakan **Euclidean Distance** tapi bisa juga distance yang lainnya\n",
    "- Clustering masuk dalam kategori **Unsupervised Learning** yang tidak memiliki target\n",
    "- Clustering merupakan analisis yang **tricky** karena semi subjective"
   ]
  },
  {
   "cell_type": "markdown",
   "metadata": {},
   "source": [
    "![](clustering.png)"
   ]
  },
  {
   "cell_type": "markdown",
   "metadata": {},
   "source": [
    "### 2. Tipe Clustering \n",
    "**a. Partitional Clustering**: \n",
    "- Jenis clustering yang mana satu data hanya boleh masuk dalam satu klaster saja \n",
    "- Bersifat flat clustering yang memerlukan input jumlah k diawal sebelum proses clustering dimulai\n",
    "- Penentuan jumlah klaster yang optimal dapat dilakukan dgn beberapa metode\n",
    "> Contoh: Dunn Index, Davies Bouldin Index, Silhouette Coefficient, Elbow, dll. \n",
    "- Keunggulan: kompleksitas waktu pemrosesan rendah, cepat, cocok untuk big data \n",
    "- Kelemahan: inisialisasi centroid yang acak sehingga bisa jadi centroid yang terpilih bukan merupakan titik konvergen\n",
    "- Algoritma: K-Means, K-Mode, K-Prototype, K-Medoids, dll.\n",
    "\n",
    "**b. Hierarchical Clustering**: \n",
    "- Jenis clustering yang dalam pengelompokkanya didasarkan pada hierarki antar data dan linkage (linkage adalah hubungan/keterkaitan antar data)\n",
    "- Tidak perlu input jumlah k di awal, algoritmanya sendirilah yang menentukan jumlah klaster dengan melihat visualisasi **dendrogram**\n",
    "- Keunggulan: mengetahui hierarki antar data yang saling mirip sehingga bisa memahami keterkaitan antar data dengan baik\n",
    "- Kelemahan: kompleksitas waktu yang tinggi sehingga kurang cocok untuk big data. the more observation we have, the slower it gets\n",
    "- Algoritma: Agglomerative (Bottom-Up), Divisive (Top-Down)\n",
    "- Tipe linkage: complete (jarak terjauh), single (jarak terdekat), average (jarak rata-rata), ward (minimal varians)"
   ]
  },
  {
   "cell_type": "markdown",
   "metadata": {},
   "source": [
    "![](tipeclustering.png)"
   ]
  },
  {
   "cell_type": "markdown",
   "metadata": {},
   "source": [
    "### 3. Aplikasi Clustering in Kehidupan\n",
    "**a. Document Clustering**: mengelompokkan artikel berdasarkan kemiripan topic\n",
    "![](document.webp)\n",
    "\n",
    "**b. Recommender System:** mengelompokkan lagu berdasarkan daily listening seorang user \n",
    "![](spotify.webp)\n",
    "\n",
    "**c. Customer Segmentation:** mengelompokkan pelanggan berdasarkan karakteristik tertentu (grouping by age, demography, behaviour, etc)"
   ]
  },
  {
   "cell_type": "markdown",
   "metadata": {},
   "source": [
    "## Hands-On: Customer Segmentation K-Means"
   ]
  },
  {
   "cell_type": "code",
   "execution_count": 1,
   "metadata": {},
   "outputs": [],
   "source": [
    "import pandas as pd\n",
    "import numpy as np \n",
    "\n",
    "import seaborn as sns \n",
    "import matplotlib.pyplot as plt\n",
    "\n",
    "from sklearn.cluster import KMeans\n",
    "\n",
    "from sklearn.preprocessing import StandardScaler"
   ]
  },
  {
   "cell_type": "code",
   "execution_count": 2,
   "metadata": {},
   "outputs": [
    {
     "data": {
      "text/html": [
       "<div>\n",
       "<style scoped>\n",
       "    .dataframe tbody tr th:only-of-type {\n",
       "        vertical-align: middle;\n",
       "    }\n",
       "\n",
       "    .dataframe tbody tr th {\n",
       "        vertical-align: top;\n",
       "    }\n",
       "\n",
       "    .dataframe thead th {\n",
       "        text-align: right;\n",
       "    }\n",
       "</style>\n",
       "<table border=\"1\" class=\"dataframe\">\n",
       "  <thead>\n",
       "    <tr style=\"text-align: right;\">\n",
       "      <th></th>\n",
       "      <th>CustomerID</th>\n",
       "      <th>Gender</th>\n",
       "      <th>Age</th>\n",
       "      <th>Annual Income (k$)</th>\n",
       "      <th>Spending Score (1-100)</th>\n",
       "    </tr>\n",
       "  </thead>\n",
       "  <tbody>\n",
       "    <tr>\n",
       "      <th>0</th>\n",
       "      <td>1</td>\n",
       "      <td>Male</td>\n",
       "      <td>19</td>\n",
       "      <td>15</td>\n",
       "      <td>39</td>\n",
       "    </tr>\n",
       "    <tr>\n",
       "      <th>1</th>\n",
       "      <td>2</td>\n",
       "      <td>Male</td>\n",
       "      <td>21</td>\n",
       "      <td>15</td>\n",
       "      <td>81</td>\n",
       "    </tr>\n",
       "    <tr>\n",
       "      <th>2</th>\n",
       "      <td>3</td>\n",
       "      <td>Female</td>\n",
       "      <td>20</td>\n",
       "      <td>16</td>\n",
       "      <td>6</td>\n",
       "    </tr>\n",
       "    <tr>\n",
       "      <th>3</th>\n",
       "      <td>4</td>\n",
       "      <td>Female</td>\n",
       "      <td>23</td>\n",
       "      <td>16</td>\n",
       "      <td>77</td>\n",
       "    </tr>\n",
       "    <tr>\n",
       "      <th>4</th>\n",
       "      <td>5</td>\n",
       "      <td>Female</td>\n",
       "      <td>31</td>\n",
       "      <td>17</td>\n",
       "      <td>40</td>\n",
       "    </tr>\n",
       "  </tbody>\n",
       "</table>\n",
       "</div>"
      ],
      "text/plain": [
       "   CustomerID  Gender  Age  Annual Income (k$)  Spending Score (1-100)\n",
       "0           1    Male   19                  15                      39\n",
       "1           2    Male   21                  15                      81\n",
       "2           3  Female   20                  16                       6\n",
       "3           4  Female   23                  16                      77\n",
       "4           5  Female   31                  17                      40"
      ]
     },
     "execution_count": 2,
     "metadata": {},
     "output_type": "execute_result"
    }
   ],
   "source": [
    "# import data \n",
    "\n",
    "df = pd.read_csv('Mall_Customers.csv', sep = ',')\n",
    "df.head(5)"
   ]
  },
  {
   "cell_type": "code",
   "execution_count": 3,
   "metadata": {},
   "outputs": [
    {
     "name": "stdout",
     "output_type": "stream",
     "text": [
      "<class 'pandas.core.frame.DataFrame'>\n",
      "RangeIndex: 200 entries, 0 to 199\n",
      "Data columns (total 5 columns):\n",
      " #   Column                  Non-Null Count  Dtype \n",
      "---  ------                  --------------  ----- \n",
      " 0   CustomerID              200 non-null    int64 \n",
      " 1   Gender                  200 non-null    object\n",
      " 2   Age                     200 non-null    int64 \n",
      " 3   Annual Income (k$)      200 non-null    int64 \n",
      " 4   Spending Score (1-100)  200 non-null    int64 \n",
      "dtypes: int64(4), object(1)\n",
      "memory usage: 7.9+ KB\n"
     ]
    }
   ],
   "source": [
    "# check data types \n",
    "\n",
    "df.info()"
   ]
  },
  {
   "cell_type": "code",
   "execution_count": 4,
   "metadata": {},
   "outputs": [],
   "source": [
    "df = df.drop('CustomerID', axis = 1)"
   ]
  },
  {
   "cell_type": "code",
   "execution_count": 5,
   "metadata": {},
   "outputs": [],
   "source": [
    "# copy data \n",
    "\n",
    "mall = df.copy()"
   ]
  },
  {
   "cell_type": "code",
   "execution_count": 6,
   "metadata": {},
   "outputs": [
    {
     "data": {
      "text/html": [
       "<div>\n",
       "<style scoped>\n",
       "    .dataframe tbody tr th:only-of-type {\n",
       "        vertical-align: middle;\n",
       "    }\n",
       "\n",
       "    .dataframe tbody tr th {\n",
       "        vertical-align: top;\n",
       "    }\n",
       "\n",
       "    .dataframe thead th {\n",
       "        text-align: right;\n",
       "    }\n",
       "</style>\n",
       "<table border=\"1\" class=\"dataframe\">\n",
       "  <thead>\n",
       "    <tr style=\"text-align: right;\">\n",
       "      <th></th>\n",
       "      <th>Age</th>\n",
       "      <th>Annual Income (k$)</th>\n",
       "      <th>Spending Score (1-100)</th>\n",
       "    </tr>\n",
       "  </thead>\n",
       "  <tbody>\n",
       "    <tr>\n",
       "      <th>count</th>\n",
       "      <td>200.000000</td>\n",
       "      <td>200.000000</td>\n",
       "      <td>200.000000</td>\n",
       "    </tr>\n",
       "    <tr>\n",
       "      <th>mean</th>\n",
       "      <td>38.850000</td>\n",
       "      <td>60.560000</td>\n",
       "      <td>50.200000</td>\n",
       "    </tr>\n",
       "    <tr>\n",
       "      <th>std</th>\n",
       "      <td>13.969007</td>\n",
       "      <td>26.264721</td>\n",
       "      <td>25.823522</td>\n",
       "    </tr>\n",
       "    <tr>\n",
       "      <th>min</th>\n",
       "      <td>18.000000</td>\n",
       "      <td>15.000000</td>\n",
       "      <td>1.000000</td>\n",
       "    </tr>\n",
       "    <tr>\n",
       "      <th>25%</th>\n",
       "      <td>28.750000</td>\n",
       "      <td>41.500000</td>\n",
       "      <td>34.750000</td>\n",
       "    </tr>\n",
       "    <tr>\n",
       "      <th>50%</th>\n",
       "      <td>36.000000</td>\n",
       "      <td>61.500000</td>\n",
       "      <td>50.000000</td>\n",
       "    </tr>\n",
       "    <tr>\n",
       "      <th>75%</th>\n",
       "      <td>49.000000</td>\n",
       "      <td>78.000000</td>\n",
       "      <td>73.000000</td>\n",
       "    </tr>\n",
       "    <tr>\n",
       "      <th>max</th>\n",
       "      <td>70.000000</td>\n",
       "      <td>137.000000</td>\n",
       "      <td>99.000000</td>\n",
       "    </tr>\n",
       "  </tbody>\n",
       "</table>\n",
       "</div>"
      ],
      "text/plain": [
       "              Age  Annual Income (k$)  Spending Score (1-100)\n",
       "count  200.000000          200.000000              200.000000\n",
       "mean    38.850000           60.560000               50.200000\n",
       "std     13.969007           26.264721               25.823522\n",
       "min     18.000000           15.000000                1.000000\n",
       "25%     28.750000           41.500000               34.750000\n",
       "50%     36.000000           61.500000               50.000000\n",
       "75%     49.000000           78.000000               73.000000\n",
       "max     70.000000          137.000000               99.000000"
      ]
     },
     "execution_count": 6,
     "metadata": {},
     "output_type": "execute_result"
    }
   ],
   "source": [
    "# descriptive statistics untuk mengetahui distribusi data\n",
    "\n",
    "mall.describe()"
   ]
  },
  {
   "cell_type": "markdown",
   "metadata": {},
   "source": [
    "Pengamantan dari *statistical summary* diatas: \n",
    "- distribusi nilai di kolom `age` , `annual income`, dan `spending score` terlihat normal (mean dan median cukup dekat) "
   ]
  },
  {
   "cell_type": "code",
   "execution_count": 7,
   "metadata": {},
   "outputs": [],
   "source": [
    "# define category and numeric\n",
    "\n",
    "nums = mall[['Age', 'Annual Income (k$)', 'Spending Score (1-100)']]\n",
    "cat = mall['Gender']"
   ]
  },
  {
   "cell_type": "code",
   "execution_count": 8,
   "metadata": {},
   "outputs": [
    {
     "data": {
      "text/html": [
       "<div>\n",
       "<style scoped>\n",
       "    .dataframe tbody tr th:only-of-type {\n",
       "        vertical-align: middle;\n",
       "    }\n",
       "\n",
       "    .dataframe tbody tr th {\n",
       "        vertical-align: top;\n",
       "    }\n",
       "\n",
       "    .dataframe thead th {\n",
       "        text-align: right;\n",
       "    }\n",
       "</style>\n",
       "<table border=\"1\" class=\"dataframe\">\n",
       "  <thead>\n",
       "    <tr style=\"text-align: right;\">\n",
       "      <th></th>\n",
       "      <th>Age</th>\n",
       "      <th>Annual Income (k$)</th>\n",
       "      <th>Spending Score (1-100)</th>\n",
       "    </tr>\n",
       "  </thead>\n",
       "  <tbody>\n",
       "    <tr>\n",
       "      <th>0</th>\n",
       "      <td>-1.424569</td>\n",
       "      <td>-1.738999</td>\n",
       "      <td>-0.434801</td>\n",
       "    </tr>\n",
       "    <tr>\n",
       "      <th>1</th>\n",
       "      <td>-1.281035</td>\n",
       "      <td>-1.738999</td>\n",
       "      <td>1.195704</td>\n",
       "    </tr>\n",
       "    <tr>\n",
       "      <th>2</th>\n",
       "      <td>-1.352802</td>\n",
       "      <td>-1.700830</td>\n",
       "      <td>-1.715913</td>\n",
       "    </tr>\n",
       "    <tr>\n",
       "      <th>3</th>\n",
       "      <td>-1.137502</td>\n",
       "      <td>-1.700830</td>\n",
       "      <td>1.040418</td>\n",
       "    </tr>\n",
       "    <tr>\n",
       "      <th>4</th>\n",
       "      <td>-0.563369</td>\n",
       "      <td>-1.662660</td>\n",
       "      <td>-0.395980</td>\n",
       "    </tr>\n",
       "  </tbody>\n",
       "</table>\n",
       "</div>"
      ],
      "text/plain": [
       "        Age  Annual Income (k$)  Spending Score (1-100)\n",
       "0 -1.424569           -1.738999               -0.434801\n",
       "1 -1.281035           -1.738999                1.195704\n",
       "2 -1.352802           -1.700830               -1.715913\n",
       "3 -1.137502           -1.700830                1.040418\n",
       "4 -0.563369           -1.662660               -0.395980"
      ]
     },
     "execution_count": 8,
     "metadata": {},
     "output_type": "execute_result"
    }
   ],
   "source": [
    "# standardize the data \n",
    "\n",
    "scaler = StandardScaler().fit_transform(nums.values)\n",
    "new_mall = pd.DataFrame(scaler, columns = nums.columns)\n",
    "new_mall.head()"
   ]
  },
  {
   "cell_type": "code",
   "execution_count": 9,
   "metadata": {},
   "outputs": [
    {
     "data": {
      "text/html": [
       "<div>\n",
       "<style scoped>\n",
       "    .dataframe tbody tr th:only-of-type {\n",
       "        vertical-align: middle;\n",
       "    }\n",
       "\n",
       "    .dataframe tbody tr th {\n",
       "        vertical-align: top;\n",
       "    }\n",
       "\n",
       "    .dataframe thead th {\n",
       "        text-align: right;\n",
       "    }\n",
       "</style>\n",
       "<table border=\"1\" class=\"dataframe\">\n",
       "  <thead>\n",
       "    <tr style=\"text-align: right;\">\n",
       "      <th></th>\n",
       "      <th>Gender_Female</th>\n",
       "      <th>Gender_Male</th>\n",
       "    </tr>\n",
       "  </thead>\n",
       "  <tbody>\n",
       "    <tr>\n",
       "      <th>0</th>\n",
       "      <td>0</td>\n",
       "      <td>1</td>\n",
       "    </tr>\n",
       "    <tr>\n",
       "      <th>1</th>\n",
       "      <td>0</td>\n",
       "      <td>1</td>\n",
       "    </tr>\n",
       "    <tr>\n",
       "      <th>2</th>\n",
       "      <td>1</td>\n",
       "      <td>0</td>\n",
       "    </tr>\n",
       "    <tr>\n",
       "      <th>3</th>\n",
       "      <td>1</td>\n",
       "      <td>0</td>\n",
       "    </tr>\n",
       "    <tr>\n",
       "      <th>4</th>\n",
       "      <td>1</td>\n",
       "      <td>0</td>\n",
       "    </tr>\n",
       "    <tr>\n",
       "      <th>...</th>\n",
       "      <td>...</td>\n",
       "      <td>...</td>\n",
       "    </tr>\n",
       "    <tr>\n",
       "      <th>195</th>\n",
       "      <td>1</td>\n",
       "      <td>0</td>\n",
       "    </tr>\n",
       "    <tr>\n",
       "      <th>196</th>\n",
       "      <td>1</td>\n",
       "      <td>0</td>\n",
       "    </tr>\n",
       "    <tr>\n",
       "      <th>197</th>\n",
       "      <td>0</td>\n",
       "      <td>1</td>\n",
       "    </tr>\n",
       "    <tr>\n",
       "      <th>198</th>\n",
       "      <td>0</td>\n",
       "      <td>1</td>\n",
       "    </tr>\n",
       "    <tr>\n",
       "      <th>199</th>\n",
       "      <td>0</td>\n",
       "      <td>1</td>\n",
       "    </tr>\n",
       "  </tbody>\n",
       "</table>\n",
       "<p>200 rows × 2 columns</p>\n",
       "</div>"
      ],
      "text/plain": [
       "     Gender_Female  Gender_Male\n",
       "0                0            1\n",
       "1                0            1\n",
       "2                1            0\n",
       "3                1            0\n",
       "4                1            0\n",
       "..             ...          ...\n",
       "195              1            0\n",
       "196              1            0\n",
       "197              0            1\n",
       "198              0            1\n",
       "199              0            1\n",
       "\n",
       "[200 rows x 2 columns]"
      ]
     },
     "execution_count": 9,
     "metadata": {},
     "output_type": "execute_result"
    }
   ],
   "source": [
    "# encoding categorical data \n",
    "\n",
    "pd.get_dummies(cat, prefix = 'Gender')"
   ]
  },
  {
   "cell_type": "markdown",
   "metadata": {},
   "source": [
    "**disclaimer :** \n",
    "- kita bisa menganggap bahwa 0 : female , 1 : male \n",
    "- ketika gunakan dummies, maka drop salah satu column. karena 1 column sudah bisa merepresentasikan informasi yang dimaksudkan oleh feature gender "
   ]
  },
  {
   "cell_type": "code",
   "execution_count": 10,
   "metadata": {},
   "outputs": [
    {
     "data": {
      "text/html": [
       "<div>\n",
       "<style scoped>\n",
       "    .dataframe tbody tr th:only-of-type {\n",
       "        vertical-align: middle;\n",
       "    }\n",
       "\n",
       "    .dataframe tbody tr th {\n",
       "        vertical-align: top;\n",
       "    }\n",
       "\n",
       "    .dataframe thead th {\n",
       "        text-align: right;\n",
       "    }\n",
       "</style>\n",
       "<table border=\"1\" class=\"dataframe\">\n",
       "  <thead>\n",
       "    <tr style=\"text-align: right;\">\n",
       "      <th></th>\n",
       "      <th>Gender_Male</th>\n",
       "    </tr>\n",
       "  </thead>\n",
       "  <tbody>\n",
       "    <tr>\n",
       "      <th>0</th>\n",
       "      <td>1</td>\n",
       "    </tr>\n",
       "    <tr>\n",
       "      <th>1</th>\n",
       "      <td>1</td>\n",
       "    </tr>\n",
       "    <tr>\n",
       "      <th>2</th>\n",
       "      <td>0</td>\n",
       "    </tr>\n",
       "    <tr>\n",
       "      <th>3</th>\n",
       "      <td>0</td>\n",
       "    </tr>\n",
       "    <tr>\n",
       "      <th>4</th>\n",
       "      <td>0</td>\n",
       "    </tr>\n",
       "  </tbody>\n",
       "</table>\n",
       "</div>"
      ],
      "text/plain": [
       "   Gender_Male\n",
       "0            1\n",
       "1            1\n",
       "2            0\n",
       "3            0\n",
       "4            0"
      ]
     },
     "execution_count": 10,
     "metadata": {},
     "output_type": "execute_result"
    }
   ],
   "source": [
    "# drop one of dummies\n",
    "\n",
    "gender = pd.get_dummies(cat, prefix = 'Gender', drop_first = True)\n",
    "gender.head()"
   ]
  },
  {
   "cell_type": "code",
   "execution_count": 11,
   "metadata": {},
   "outputs": [
    {
     "data": {
      "text/html": [
       "<div>\n",
       "<style scoped>\n",
       "    .dataframe tbody tr th:only-of-type {\n",
       "        vertical-align: middle;\n",
       "    }\n",
       "\n",
       "    .dataframe tbody tr th {\n",
       "        vertical-align: top;\n",
       "    }\n",
       "\n",
       "    .dataframe thead th {\n",
       "        text-align: right;\n",
       "    }\n",
       "</style>\n",
       "<table border=\"1\" class=\"dataframe\">\n",
       "  <thead>\n",
       "    <tr style=\"text-align: right;\">\n",
       "      <th></th>\n",
       "      <th>Age</th>\n",
       "      <th>Annual Income (k$)</th>\n",
       "      <th>Spending Score (1-100)</th>\n",
       "      <th>Gender_Male</th>\n",
       "    </tr>\n",
       "  </thead>\n",
       "  <tbody>\n",
       "    <tr>\n",
       "      <th>0</th>\n",
       "      <td>-1.424569</td>\n",
       "      <td>-1.738999</td>\n",
       "      <td>-0.434801</td>\n",
       "      <td>1</td>\n",
       "    </tr>\n",
       "    <tr>\n",
       "      <th>1</th>\n",
       "      <td>-1.281035</td>\n",
       "      <td>-1.738999</td>\n",
       "      <td>1.195704</td>\n",
       "      <td>1</td>\n",
       "    </tr>\n",
       "    <tr>\n",
       "      <th>2</th>\n",
       "      <td>-1.352802</td>\n",
       "      <td>-1.700830</td>\n",
       "      <td>-1.715913</td>\n",
       "      <td>0</td>\n",
       "    </tr>\n",
       "    <tr>\n",
       "      <th>3</th>\n",
       "      <td>-1.137502</td>\n",
       "      <td>-1.700830</td>\n",
       "      <td>1.040418</td>\n",
       "      <td>0</td>\n",
       "    </tr>\n",
       "    <tr>\n",
       "      <th>4</th>\n",
       "      <td>-0.563369</td>\n",
       "      <td>-1.662660</td>\n",
       "      <td>-0.395980</td>\n",
       "      <td>0</td>\n",
       "    </tr>\n",
       "  </tbody>\n",
       "</table>\n",
       "</div>"
      ],
      "text/plain": [
       "        Age  Annual Income (k$)  Spending Score (1-100)  Gender_Male\n",
       "0 -1.424569           -1.738999               -0.434801            1\n",
       "1 -1.281035           -1.738999                1.195704            1\n",
       "2 -1.352802           -1.700830               -1.715913            0\n",
       "3 -1.137502           -1.700830                1.040418            0\n",
       "4 -0.563369           -1.662660               -0.395980            0"
      ]
     },
     "execution_count": 11,
     "metadata": {},
     "output_type": "execute_result"
    }
   ],
   "source": [
    "# join categorial and numerical data\n",
    "\n",
    "dfmall = new_mall.join(gender)\n",
    "dfmall.head()"
   ]
  },
  {
   "cell_type": "code",
   "execution_count": 12,
   "metadata": {},
   "outputs": [],
   "source": [
    "# select the best k for k-means clustering (elbow)\n",
    "\n",
    "sse = []\n",
    "for i in range(2,11): \n",
    "    km = KMeans(n_clusters = i, \n",
    "                init = 'k-means++', \n",
    "                max_iter = 100, \n",
    "                n_init = 10, \n",
    "                random_state = 42)\n",
    "    y_km = km.fit_predict(dfmall.values)\n",
    "    inertia = km.inertia_\n",
    "    sse.append(round(inertia, 2))"
   ]
  },
  {
   "cell_type": "markdown",
   "metadata": {},
   "source": [
    "- menggunakan for loop dalam rangka mengiterasi fungsi k-means berdasarkan range cluster yang kita definisikan untuk menemukan pada jumlah k berapa yang paling optimal "
   ]
  },
  {
   "cell_type": "code",
   "execution_count": 17,
   "metadata": {},
   "outputs": [
    {
     "name": "stdout",
     "output_type": "stream",
     "text": [
      "[438.52, 344.41, 254.36, 216.78, 181.95, 170.57, 150.61, 138.5, 129.19]\n"
     ]
    }
   ],
   "source": [
    "print(sse)"
   ]
  },
  {
   "cell_type": "code",
   "execution_count": 18,
   "metadata": {},
   "outputs": [
    {
     "data": {
      "image/png": "[encoded data removed]",
      "text/plain": [
       "<Figure size 576x360 with 1 Axes>"
      ]
     },
     "metadata": {
      "needs_background": "light"
     },
     "output_type": "display_data"
    }
   ],
   "source": [
    "# visualisasi elbow \n",
    "\n",
    "plt.figure(figsize = (8,5))\n",
    "\n",
    "plt.plot(range(2,11), sse, linewidth = 1, color = 'black', marker = 'o', markersize = 5)\n",
    "plt.title('Prediksi Jumlah Klaster Metode Elbow', family = 'Arial', fontsize = 14, color = 'black')\n",
    "plt.xlabel('$k$', family = 'Arial', fontsize = 14, color = 'black')\n",
    "plt.ylabel('Sum Square Error', family = 'Arial', fontsize = 14, color = 'black')\n",
    "\n",
    "plt.xticks(range(2,11))\n",
    "\n",
    "plt.grid(which = 'both', color = 'black', axis = 'x', alpha = 0.3);"
   ]
  },
  {
   "cell_type": "code",
   "execution_count": 13,
   "metadata": {},
   "outputs": [],
   "source": [
    "km_elbow = KMeans(n_clusters = 6, \n",
    "                     init = 'k-means++', \n",
    "                     max_iter = 100, \n",
    "                     n_init = 10, \n",
    "                     random_state = 42)\n",
    "y_kmelbow = km_elbow.fit_predict(dfmall.values)"
   ]
  },
  {
   "cell_type": "code",
   "execution_count": 14,
   "metadata": {},
   "outputs": [],
   "source": [
    "# concate dengan dataframe hasil copy tadi, yaitu mall\n",
    "\n",
    "mall['Cluster'] = y_kmelbow"
   ]
  },
  {
   "cell_type": "code",
   "execution_count": 15,
   "metadata": {},
   "outputs": [
    {
     "data": {
      "text/html": [
       "<div>\n",
       "<style scoped>\n",
       "    .dataframe tbody tr th:only-of-type {\n",
       "        vertical-align: middle;\n",
       "    }\n",
       "\n",
       "    .dataframe tbody tr th {\n",
       "        vertical-align: top;\n",
       "    }\n",
       "\n",
       "    .dataframe thead th {\n",
       "        text-align: right;\n",
       "    }\n",
       "</style>\n",
       "<table border=\"1\" class=\"dataframe\">\n",
       "  <thead>\n",
       "    <tr style=\"text-align: right;\">\n",
       "      <th></th>\n",
       "      <th>Gender</th>\n",
       "      <th>Age</th>\n",
       "      <th>Annual Income (k$)</th>\n",
       "      <th>Spending Score (1-100)</th>\n",
       "      <th>Cluster</th>\n",
       "    </tr>\n",
       "  </thead>\n",
       "  <tbody>\n",
       "    <tr>\n",
       "      <th>0</th>\n",
       "      <td>Male</td>\n",
       "      <td>19</td>\n",
       "      <td>15</td>\n",
       "      <td>39</td>\n",
       "      <td>0</td>\n",
       "    </tr>\n",
       "    <tr>\n",
       "      <th>1</th>\n",
       "      <td>Male</td>\n",
       "      <td>21</td>\n",
       "      <td>15</td>\n",
       "      <td>81</td>\n",
       "      <td>0</td>\n",
       "    </tr>\n",
       "    <tr>\n",
       "      <th>2</th>\n",
       "      <td>Female</td>\n",
       "      <td>20</td>\n",
       "      <td>16</td>\n",
       "      <td>6</td>\n",
       "      <td>3</td>\n",
       "    </tr>\n",
       "    <tr>\n",
       "      <th>3</th>\n",
       "      <td>Female</td>\n",
       "      <td>23</td>\n",
       "      <td>16</td>\n",
       "      <td>77</td>\n",
       "      <td>0</td>\n",
       "    </tr>\n",
       "    <tr>\n",
       "      <th>4</th>\n",
       "      <td>Female</td>\n",
       "      <td>31</td>\n",
       "      <td>17</td>\n",
       "      <td>40</td>\n",
       "      <td>3</td>\n",
       "    </tr>\n",
       "  </tbody>\n",
       "</table>\n",
       "</div>"
      ],
      "text/plain": [
       "   Gender  Age  Annual Income (k$)  Spending Score (1-100)  Cluster\n",
       "0    Male   19                  15                      39        0\n",
       "1    Male   21                  15                      81        0\n",
       "2  Female   20                  16                       6        3\n",
       "3  Female   23                  16                      77        0\n",
       "4  Female   31                  17                      40        3"
      ]
     },
     "execution_count": 15,
     "metadata": {},
     "output_type": "execute_result"
    }
   ],
   "source": [
    "mall.head()"
   ]
  },
  {
   "cell_type": "code",
   "execution_count": 16,
   "metadata": {},
   "outputs": [
    {
     "data": {
      "text/html": [
       "<div>\n",
       "<style scoped>\n",
       "    .dataframe tbody tr th:only-of-type {\n",
       "        vertical-align: middle;\n",
       "    }\n",
       "\n",
       "    .dataframe tbody tr th {\n",
       "        vertical-align: top;\n",
       "    }\n",
       "\n",
       "    .dataframe thead th {\n",
       "        text-align: right;\n",
       "    }\n",
       "</style>\n",
       "<table border=\"1\" class=\"dataframe\">\n",
       "  <thead>\n",
       "    <tr style=\"text-align: right;\">\n",
       "      <th></th>\n",
       "      <th>Cluster</th>\n",
       "      <th>Age</th>\n",
       "      <th>Annual Income (k$)</th>\n",
       "      <th>Spending Score (1-100)</th>\n",
       "    </tr>\n",
       "  </thead>\n",
       "  <tbody>\n",
       "    <tr>\n",
       "      <th>0</th>\n",
       "      <td>0</td>\n",
       "      <td>25.000000</td>\n",
       "      <td>25.260870</td>\n",
       "      <td>77.608696</td>\n",
       "    </tr>\n",
       "    <tr>\n",
       "      <th>1</th>\n",
       "      <td>1</td>\n",
       "      <td>56.333333</td>\n",
       "      <td>54.266667</td>\n",
       "      <td>49.066667</td>\n",
       "    </tr>\n",
       "    <tr>\n",
       "      <th>2</th>\n",
       "      <td>2</td>\n",
       "      <td>27.000000</td>\n",
       "      <td>56.657895</td>\n",
       "      <td>49.131579</td>\n",
       "    </tr>\n",
       "    <tr>\n",
       "      <th>3</th>\n",
       "      <td>3</td>\n",
       "      <td>45.523810</td>\n",
       "      <td>26.285714</td>\n",
       "      <td>19.380952</td>\n",
       "    </tr>\n",
       "    <tr>\n",
       "      <th>4</th>\n",
       "      <td>4</td>\n",
       "      <td>41.264706</td>\n",
       "      <td>88.500000</td>\n",
       "      <td>16.764706</td>\n",
       "    </tr>\n",
       "    <tr>\n",
       "      <th>5</th>\n",
       "      <td>5</td>\n",
       "      <td>32.692308</td>\n",
       "      <td>86.538462</td>\n",
       "      <td>82.128205</td>\n",
       "    </tr>\n",
       "  </tbody>\n",
       "</table>\n",
       "</div>"
      ],
      "text/plain": [
       "   Cluster        Age  Annual Income (k$)  Spending Score (1-100)\n",
       "0        0  25.000000           25.260870               77.608696\n",
       "1        1  56.333333           54.266667               49.066667\n",
       "2        2  27.000000           56.657895               49.131579\n",
       "3        3  45.523810           26.285714               19.380952\n",
       "4        4  41.264706           88.500000               16.764706\n",
       "5        5  32.692308           86.538462               82.128205"
      ]
     },
     "execution_count": 16,
     "metadata": {},
     "output_type": "execute_result"
    }
   ],
   "source": [
    "average = mall.groupby(['Cluster'], as_index = False).mean()\n",
    "average"
   ]
  },
  {
   "cell_type": "markdown",
   "metadata": {},
   "source": [
    "**Visualisasi Data Kategorikal**"
   ]
  },
  {
   "cell_type": "code",
   "execution_count": 17,
   "metadata": {},
   "outputs": [],
   "source": [
    "features = ['Age', 'Annual Income (k$)', 'Spending Score (1-100)']"
   ]
  },
  {
   "cell_type": "code",
   "execution_count": 33,
   "metadata": {},
   "outputs": [
    {
     "data": {
      "text/plain": [
       "[(0, 'Age'), (1, 'Annual Income (k$)'), (2, 'Spending Score (1-100)')]"
      ]
     },
     "execution_count": 33,
     "metadata": {},
     "output_type": "execute_result"
    }
   ],
   "source": [
    "list(enumerate(features))"
   ]
  },
  {
   "cell_type": "markdown",
   "metadata": {},
   "source": [
    "**notes :** \n",
    "- melakukan enumerate agar memudahkan iterasi visualisasi\n",
    "- enumerate adalah fungsi untuk memanggil feature yang kita list dengan menambahkan index, yang dibentuk dalam satu kesatuan tuple"
   ]
  },
  {
   "cell_type": "code",
   "execution_count": 19,
   "metadata": {},
   "outputs": [
    {
     "data": {
      "image/png": "[encoded data removed]",
      "text/plain": [
       "<Figure size 864x360 with 3 Axes>"
      ]
     },
     "metadata": {
      "needs_background": "light"
     },
     "output_type": "display_data"
    }
   ],
   "source": [
    "plt.figure(figsize = (12,5))\n",
    "for i in enumerate(features):\n",
    "    plt.subplot(1, 3, i[0]+1) # (rows, columns, index figure)\n",
    "    sns.barplot(x = 'Cluster', y = i[1], data = average, ci = None)\n",
    "    plt.tight_layout();"
   ]
  },
  {
   "cell_type": "code",
   "execution_count": 20,
   "metadata": {},
   "outputs": [
    {
     "data": {
      "text/html": [
       "<div>\n",
       "<style scoped>\n",
       "    .dataframe tbody tr th:only-of-type {\n",
       "        vertical-align: middle;\n",
       "    }\n",
       "\n",
       "    .dataframe tbody tr th {\n",
       "        vertical-align: top;\n",
       "    }\n",
       "\n",
       "    .dataframe thead th {\n",
       "        text-align: right;\n",
       "    }\n",
       "</style>\n",
       "<table border=\"1\" class=\"dataframe\">\n",
       "  <thead>\n",
       "    <tr style=\"text-align: right;\">\n",
       "      <th></th>\n",
       "      <th></th>\n",
       "      <th>Gender</th>\n",
       "    </tr>\n",
       "    <tr>\n",
       "      <th>Cluster</th>\n",
       "      <th>Gender</th>\n",
       "      <th></th>\n",
       "    </tr>\n",
       "  </thead>\n",
       "  <tbody>\n",
       "    <tr>\n",
       "      <th rowspan=\"2\" valign=\"top\">0</th>\n",
       "      <th>Female</th>\n",
       "      <td>13</td>\n",
       "    </tr>\n",
       "    <tr>\n",
       "      <th>Male</th>\n",
       "      <td>10</td>\n",
       "    </tr>\n",
       "    <tr>\n",
       "      <th rowspan=\"2\" valign=\"top\">1</th>\n",
       "      <th>Female</th>\n",
       "      <td>26</td>\n",
       "    </tr>\n",
       "    <tr>\n",
       "      <th>Male</th>\n",
       "      <td>19</td>\n",
       "    </tr>\n",
       "    <tr>\n",
       "      <th rowspan=\"2\" valign=\"top\">2</th>\n",
       "      <th>Female</th>\n",
       "      <td>25</td>\n",
       "    </tr>\n",
       "    <tr>\n",
       "      <th>Male</th>\n",
       "      <td>13</td>\n",
       "    </tr>\n",
       "    <tr>\n",
       "      <th rowspan=\"2\" valign=\"top\">3</th>\n",
       "      <th>Female</th>\n",
       "      <td>13</td>\n",
       "    </tr>\n",
       "    <tr>\n",
       "      <th>Male</th>\n",
       "      <td>8</td>\n",
       "    </tr>\n",
       "    <tr>\n",
       "      <th rowspan=\"2\" valign=\"top\">4</th>\n",
       "      <th>Female</th>\n",
       "      <td>14</td>\n",
       "    </tr>\n",
       "    <tr>\n",
       "      <th>Male</th>\n",
       "      <td>20</td>\n",
       "    </tr>\n",
       "    <tr>\n",
       "      <th rowspan=\"2\" valign=\"top\">5</th>\n",
       "      <th>Female</th>\n",
       "      <td>21</td>\n",
       "    </tr>\n",
       "    <tr>\n",
       "      <th>Male</th>\n",
       "      <td>18</td>\n",
       "    </tr>\n",
       "  </tbody>\n",
       "</table>\n",
       "</div>"
      ],
      "text/plain": [
       "                Gender\n",
       "Cluster Gender        \n",
       "0       Female      13\n",
       "        Male        10\n",
       "1       Female      26\n",
       "        Male        19\n",
       "2       Female      25\n",
       "        Male        13\n",
       "3       Female      13\n",
       "        Male         8\n",
       "4       Female      14\n",
       "        Male        20\n",
       "5       Female      21\n",
       "        Male        18"
      ]
     },
     "execution_count": 20,
     "metadata": {},
     "output_type": "execute_result"
    }
   ],
   "source": [
    "# gender deep dive \n",
    "\n",
    "grouping = pd.DataFrame(mall.groupby(['Cluster', 'Gender']).Gender.count())\n",
    "grouping"
   ]
  },
  {
   "cell_type": "markdown",
   "metadata": {},
   "source": [
    "## Interpretasi \n",
    "**Cluster 0** \n",
    "- Age: 25 tahun | Annual Income: 25000 | Spending Score: 77 | Dominated by Female\n",
    "- Wanita muda dengan income sedikit tapi mereka boros \n",
    "\n",
    "**Cluster 1**\n",
    "- Age: 56 tahun | Annual Income: 54000 | Spending Score: 49 | Dominated by Female\n",
    "- Wanita berumur dengan income sedang tapi mereka tidak terlalu boros \n",
    "\n",
    "**Cluster 2**\n",
    "- Age: 27 tahun | Annual Income: 56000 | Spending Score: 49 | Dominated by Female\n",
    "- Wanita muda dengan income lumayan tapi mereka tidak terlalu boros\n",
    "\n",
    "**Cluster 3**\n",
    "- Age: 45 tahun | Annual Income: 26000 | Spending Score: 19 | Dominated by Female\n",
    "- Wanita berumur dengan income sedang tapi mereka sangat hemat\n",
    "\n",
    "**Cluster 4**\n",
    "- Age: 41 tahun | Annual Income: 88000 | Spending Score: 16 | Dominated by Male\n",
    "- Bapak-bapak dengan highest income dan super hemat \n",
    "\n",
    "**Cluster 5**\n",
    "- Age: 32 tahun | Annual Income: 86000 | Spending Score: 82 | Dominated by Female\n",
    "- Wanita middle age berkarir dengan income tinggi dan sangat boros "
   ]
  },
  {
   "cell_type": "markdown",
   "metadata": {},
   "source": [
    "**Visualisasi Cluster**"
   ]
  },
  {
   "cell_type": "code",
   "execution_count": 21,
   "metadata": {},
   "outputs": [],
   "source": [
    "from sklearn.decomposition import PCA"
   ]
  },
  {
   "cell_type": "code",
   "execution_count": 22,
   "metadata": {},
   "outputs": [],
   "source": [
    "# definisikan fungsi pca\n",
    "\n",
    "pca = PCA(n_components = 2) "
   ]
  },
  {
   "cell_type": "code",
   "execution_count": 23,
   "metadata": {},
   "outputs": [],
   "source": [
    "# bagi data menjadi feature dan target (X dan Y)\n",
    "\n",
    "X_pca = dfmall[['Age', 'Annual Income (k$)', 'Spending Score (1-100)', 'Gender_Male']].values \n",
    "Y_pca = y_kmelbow"
   ]
  },
  {
   "cell_type": "code",
   "execution_count": 24,
   "metadata": {},
   "outputs": [],
   "source": [
    "principal = pca.fit_transform(X_pca)"
   ]
  },
  {
   "cell_type": "code",
   "execution_count": 25,
   "metadata": {},
   "outputs": [
    {
     "name": "stdout",
     "output_type": "stream",
     "text": [
      "Explained variance ratio from PCA: [0.4095285 0.3081674]\n"
     ]
    }
   ],
   "source": [
    "print(f'Explained variance ratio from PCA: {pca.explained_variance_ratio_}')"
   ]
  },
  {
   "cell_type": "markdown",
   "metadata": {},
   "source": [
    "- first pca menjelaskan sebesar 40% varians\n",
    "- second pca menjelaskan sebesar 30% varians\n",
    "- sehingga 70% varians dijelaskan dengan 2 components\n",
    "- visualisasi yang dibangun akan menjelaskan sebesar 70% informasi yang termuat dari data kita "
   ]
  },
  {
   "cell_type": "code",
   "execution_count": 27,
   "metadata": {},
   "outputs": [
    {
     "data": {
      "text/html": [
       "<div>\n",
       "<style scoped>\n",
       "    .dataframe tbody tr th:only-of-type {\n",
       "        vertical-align: middle;\n",
       "    }\n",
       "\n",
       "    .dataframe tbody tr th {\n",
       "        vertical-align: top;\n",
       "    }\n",
       "\n",
       "    .dataframe thead th {\n",
       "        text-align: right;\n",
       "    }\n",
       "</style>\n",
       "<table border=\"1\" class=\"dataframe\">\n",
       "  <thead>\n",
       "    <tr style=\"text-align: right;\">\n",
       "      <th></th>\n",
       "      <th>principal component 1</th>\n",
       "      <th>principal component 2</th>\n",
       "    </tr>\n",
       "  </thead>\n",
       "  <tbody>\n",
       "    <tr>\n",
       "      <th>0</th>\n",
       "      <td>-0.600438</td>\n",
       "      <td>-1.737179</td>\n",
       "    </tr>\n",
       "    <tr>\n",
       "      <th>1</th>\n",
       "      <td>-1.649886</td>\n",
       "      <td>-1.789124</td>\n",
       "    </tr>\n",
       "    <tr>\n",
       "      <th>2</th>\n",
       "      <td>0.315381</td>\n",
       "      <td>-1.692772</td>\n",
       "    </tr>\n",
       "    <tr>\n",
       "      <th>3</th>\n",
       "      <td>-1.477989</td>\n",
       "      <td>-1.781317</td>\n",
       "    </tr>\n",
       "    <tr>\n",
       "      <th>4</th>\n",
       "      <td>-0.060545</td>\n",
       "      <td>-1.678691</td>\n",
       "    </tr>\n",
       "  </tbody>\n",
       "</table>\n",
       "</div>"
      ],
      "text/plain": [
       "   principal component 1  principal component 2\n",
       "0              -0.600438              -1.737179\n",
       "1              -1.649886              -1.789124\n",
       "2               0.315381              -1.692772\n",
       "3              -1.477989              -1.781317\n",
       "4              -0.060545              -1.678691"
      ]
     },
     "execution_count": 27,
     "metadata": {},
     "output_type": "execute_result"
    }
   ],
   "source": [
    "df_principal = pd.DataFrame(data = principal, \n",
    "                            columns = ['principal component 1', 'principal component 2'])\n",
    "df_principal.head()"
   ]
  },
  {
   "cell_type": "code",
   "execution_count": 28,
   "metadata": {},
   "outputs": [
    {
     "data": {
      "text/html": [
       "<div>\n",
       "<style scoped>\n",
       "    .dataframe tbody tr th:only-of-type {\n",
       "        vertical-align: middle;\n",
       "    }\n",
       "\n",
       "    .dataframe tbody tr th {\n",
       "        vertical-align: top;\n",
       "    }\n",
       "\n",
       "    .dataframe thead th {\n",
       "        text-align: right;\n",
       "    }\n",
       "</style>\n",
       "<table border=\"1\" class=\"dataframe\">\n",
       "  <thead>\n",
       "    <tr style=\"text-align: right;\">\n",
       "      <th></th>\n",
       "      <th>principal component 1</th>\n",
       "      <th>principal component 2</th>\n",
       "      <th>Cluster</th>\n",
       "    </tr>\n",
       "  </thead>\n",
       "  <tbody>\n",
       "    <tr>\n",
       "      <th>0</th>\n",
       "      <td>-0.600438</td>\n",
       "      <td>-1.737179</td>\n",
       "      <td>0</td>\n",
       "    </tr>\n",
       "    <tr>\n",
       "      <th>1</th>\n",
       "      <td>-1.649886</td>\n",
       "      <td>-1.789124</td>\n",
       "      <td>0</td>\n",
       "    </tr>\n",
       "    <tr>\n",
       "      <th>2</th>\n",
       "      <td>0.315381</td>\n",
       "      <td>-1.692772</td>\n",
       "      <td>3</td>\n",
       "    </tr>\n",
       "    <tr>\n",
       "      <th>3</th>\n",
       "      <td>-1.477989</td>\n",
       "      <td>-1.781317</td>\n",
       "      <td>0</td>\n",
       "    </tr>\n",
       "    <tr>\n",
       "      <th>4</th>\n",
       "      <td>-0.060545</td>\n",
       "      <td>-1.678691</td>\n",
       "      <td>3</td>\n",
       "    </tr>\n",
       "  </tbody>\n",
       "</table>\n",
       "</div>"
      ],
      "text/plain": [
       "   principal component 1  principal component 2  Cluster\n",
       "0              -0.600438              -1.737179        0\n",
       "1              -1.649886              -1.789124        0\n",
       "2               0.315381              -1.692772        3\n",
       "3              -1.477989              -1.781317        0\n",
       "4              -0.060545              -1.678691        3"
      ]
     },
     "execution_count": 28,
     "metadata": {},
     "output_type": "execute_result"
    }
   ],
   "source": [
    "# menggabungkan hasil cluster dg data frame pca \n",
    "\n",
    "finaldf = df_principal.join(mall['Cluster'])\n",
    "finaldf.head()"
   ]
  },
  {
   "cell_type": "code",
   "execution_count": 30,
   "metadata": {},
   "outputs": [
    {
     "data": {
      "image/png": "[encoded data removed]",
      "text/plain": [
       "<Figure size 576x360 with 1 Axes>"
      ]
     },
     "metadata": {
      "needs_background": "light"
     },
     "output_type": "display_data"
    }
   ],
   "source": [
    "# starts visualizing \n",
    "\n",
    "plt.figure(figsize = (8,5))\n",
    "\n",
    "plt.title('Clustering Results', size = 20)\n",
    "sns.scatterplot(x = 'principal component 1', \n",
    "                y = 'principal component 2', \n",
    "                hue = 'Cluster', \n",
    "                data = finaldf, \n",
    "               palette = 'plasma')\n",
    "\n",
    "plt.grid(alpha = 0.5)\n",
    "plt.tight_layout();"
   ]
  },
  {
   "cell_type": "markdown",
   "metadata": {},
   "source": [
    "## Hands-On: Customer Segmentation Hierarchical Clustering"
   ]
  },
  {
   "cell_type": "code",
   "execution_count": 32,
   "metadata": {},
   "outputs": [],
   "source": [
    "import scipy.cluster.hierarchy as sch"
   ]
  },
  {
   "cell_type": "code",
   "execution_count": 33,
   "metadata": {},
   "outputs": [
    {
     "data": {
      "text/html": [
       "<div>\n",
       "<style scoped>\n",
       "    .dataframe tbody tr th:only-of-type {\n",
       "        vertical-align: middle;\n",
       "    }\n",
       "\n",
       "    .dataframe tbody tr th {\n",
       "        vertical-align: top;\n",
       "    }\n",
       "\n",
       "    .dataframe thead th {\n",
       "        text-align: right;\n",
       "    }\n",
       "</style>\n",
       "<table border=\"1\" class=\"dataframe\">\n",
       "  <thead>\n",
       "    <tr style=\"text-align: right;\">\n",
       "      <th></th>\n",
       "      <th>Age</th>\n",
       "      <th>Annual Income (k$)</th>\n",
       "      <th>Spending Score (1-100)</th>\n",
       "      <th>Gender_Male</th>\n",
       "    </tr>\n",
       "  </thead>\n",
       "  <tbody>\n",
       "    <tr>\n",
       "      <th>0</th>\n",
       "      <td>-1.424569</td>\n",
       "      <td>-1.738999</td>\n",
       "      <td>-0.434801</td>\n",
       "      <td>1</td>\n",
       "    </tr>\n",
       "    <tr>\n",
       "      <th>1</th>\n",
       "      <td>-1.281035</td>\n",
       "      <td>-1.738999</td>\n",
       "      <td>1.195704</td>\n",
       "      <td>1</td>\n",
       "    </tr>\n",
       "    <tr>\n",
       "      <th>2</th>\n",
       "      <td>-1.352802</td>\n",
       "      <td>-1.700830</td>\n",
       "      <td>-1.715913</td>\n",
       "      <td>0</td>\n",
       "    </tr>\n",
       "    <tr>\n",
       "      <th>3</th>\n",
       "      <td>-1.137502</td>\n",
       "      <td>-1.700830</td>\n",
       "      <td>1.040418</td>\n",
       "      <td>0</td>\n",
       "    </tr>\n",
       "    <tr>\n",
       "      <th>4</th>\n",
       "      <td>-0.563369</td>\n",
       "      <td>-1.662660</td>\n",
       "      <td>-0.395980</td>\n",
       "      <td>0</td>\n",
       "    </tr>\n",
       "  </tbody>\n",
       "</table>\n",
       "</div>"
      ],
      "text/plain": [
       "        Age  Annual Income (k$)  Spending Score (1-100)  Gender_Male\n",
       "0 -1.424569           -1.738999               -0.434801            1\n",
       "1 -1.281035           -1.738999                1.195704            1\n",
       "2 -1.352802           -1.700830               -1.715913            0\n",
       "3 -1.137502           -1.700830                1.040418            0\n",
       "4 -0.563369           -1.662660               -0.395980            0"
      ]
     },
     "execution_count": 33,
     "metadata": {},
     "output_type": "execute_result"
    }
   ],
   "source": [
    "dfmall.head()"
   ]
  },
  {
   "cell_type": "code",
   "execution_count": 34,
   "metadata": {},
   "outputs": [
    {
     "data": {
      "image/png": "[encoded data removed]",
      "text/plain": [
       "<Figure size 864x576 with 1 Axes>"
      ]
     },
     "metadata": {
      "needs_background": "light"
     },
     "output_type": "display_data"
    }
   ],
   "source": [
    "plt.figure(figsize = (12,8))\n",
    "dendrogram = sch.dendrogram(sch.linkage(dfmall.values, method = 'ward'))\n",
    "\n",
    "plt.title('Dendrogram', size = 20)\n",
    "plt.xlabel('Customers')\n",
    "plt.ylabel('Euclidean distances');"
   ]
  },
  {
   "cell_type": "markdown",
   "metadata": {},
   "source": [
    "- dari dendrogram kita tahu hierarki antar data \n",
    "- pertimbangan paling oke utk pilih klaster optimal: pilih hierarki klaster yang jaraknya tidak terlalu panjang \n",
    "- pada garis 7.5 kita tetapkan sebagai threshold / batasan \n",
    "- jumlah k paling optimal = 6 "
   ]
  },
  {
   "cell_type": "code",
   "execution_count": 35,
   "metadata": {},
   "outputs": [],
   "source": [
    "from sklearn.cluster import AgglomerativeClustering"
   ]
  },
  {
   "cell_type": "code",
   "execution_count": 36,
   "metadata": {},
   "outputs": [],
   "source": [
    "hc = AgglomerativeClustering(n_clusters = 6, affinity = 'euclidean', linkage = 'ward')\n",
    "y_hc = hc.fit_predict(dfmall.values)"
   ]
  },
  {
   "cell_type": "markdown",
   "metadata": {},
   "source": [
    "**Visualisasi**"
   ]
  },
  {
   "cell_type": "code",
   "execution_count": 37,
   "metadata": {},
   "outputs": [],
   "source": [
    "df_hc = df.copy()"
   ]
  },
  {
   "cell_type": "code",
   "execution_count": 38,
   "metadata": {},
   "outputs": [],
   "source": [
    "df_hc['Cluster'] = y_hc"
   ]
  },
  {
   "cell_type": "code",
   "execution_count": 39,
   "metadata": {},
   "outputs": [
    {
     "data": {
      "text/html": [
       "<div>\n",
       "<style scoped>\n",
       "    .dataframe tbody tr th:only-of-type {\n",
       "        vertical-align: middle;\n",
       "    }\n",
       "\n",
       "    .dataframe tbody tr th {\n",
       "        vertical-align: top;\n",
       "    }\n",
       "\n",
       "    .dataframe thead th {\n",
       "        text-align: right;\n",
       "    }\n",
       "</style>\n",
       "<table border=\"1\" class=\"dataframe\">\n",
       "  <thead>\n",
       "    <tr style=\"text-align: right;\">\n",
       "      <th></th>\n",
       "      <th>Gender</th>\n",
       "      <th>Age</th>\n",
       "      <th>Annual Income (k$)</th>\n",
       "      <th>Spending Score (1-100)</th>\n",
       "      <th>Cluster</th>\n",
       "    </tr>\n",
       "  </thead>\n",
       "  <tbody>\n",
       "    <tr>\n",
       "      <th>0</th>\n",
       "      <td>Male</td>\n",
       "      <td>19</td>\n",
       "      <td>15</td>\n",
       "      <td>39</td>\n",
       "      <td>1</td>\n",
       "    </tr>\n",
       "    <tr>\n",
       "      <th>1</th>\n",
       "      <td>Male</td>\n",
       "      <td>21</td>\n",
       "      <td>15</td>\n",
       "      <td>81</td>\n",
       "      <td>5</td>\n",
       "    </tr>\n",
       "    <tr>\n",
       "      <th>2</th>\n",
       "      <td>Female</td>\n",
       "      <td>20</td>\n",
       "      <td>16</td>\n",
       "      <td>6</td>\n",
       "      <td>1</td>\n",
       "    </tr>\n",
       "    <tr>\n",
       "      <th>3</th>\n",
       "      <td>Female</td>\n",
       "      <td>23</td>\n",
       "      <td>16</td>\n",
       "      <td>77</td>\n",
       "      <td>5</td>\n",
       "    </tr>\n",
       "    <tr>\n",
       "      <th>4</th>\n",
       "      <td>Female</td>\n",
       "      <td>31</td>\n",
       "      <td>17</td>\n",
       "      <td>40</td>\n",
       "      <td>1</td>\n",
       "    </tr>\n",
       "  </tbody>\n",
       "</table>\n",
       "</div>"
      ],
      "text/plain": [
       "   Gender  Age  Annual Income (k$)  Spending Score (1-100)  Cluster\n",
       "0    Male   19                  15                      39        1\n",
       "1    Male   21                  15                      81        5\n",
       "2  Female   20                  16                       6        1\n",
       "3  Female   23                  16                      77        5\n",
       "4  Female   31                  17                      40        1"
      ]
     },
     "execution_count": 39,
     "metadata": {},
     "output_type": "execute_result"
    }
   ],
   "source": [
    "df_hc.head()"
   ]
  },
  {
   "cell_type": "code",
   "execution_count": 40,
   "metadata": {},
   "outputs": [
    {
     "data": {
      "text/html": [
       "<div>\n",
       "<style scoped>\n",
       "    .dataframe tbody tr th:only-of-type {\n",
       "        vertical-align: middle;\n",
       "    }\n",
       "\n",
       "    .dataframe tbody tr th {\n",
       "        vertical-align: top;\n",
       "    }\n",
       "\n",
       "    .dataframe thead th {\n",
       "        text-align: right;\n",
       "    }\n",
       "</style>\n",
       "<table border=\"1\" class=\"dataframe\">\n",
       "  <thead>\n",
       "    <tr style=\"text-align: right;\">\n",
       "      <th></th>\n",
       "      <th>Cluster</th>\n",
       "      <th>Age</th>\n",
       "      <th>Annual Income (k$)</th>\n",
       "      <th>Spending Score (1-100)</th>\n",
       "    </tr>\n",
       "  </thead>\n",
       "  <tbody>\n",
       "    <tr>\n",
       "      <th>0</th>\n",
       "      <td>0</td>\n",
       "      <td>54.960000</td>\n",
       "      <td>53.620000</td>\n",
       "      <td>48.240000</td>\n",
       "    </tr>\n",
       "    <tr>\n",
       "      <th>1</th>\n",
       "      <td>1</td>\n",
       "      <td>43.750000</td>\n",
       "      <td>25.250000</td>\n",
       "      <td>19.050000</td>\n",
       "    </tr>\n",
       "    <tr>\n",
       "      <th>2</th>\n",
       "      <td>2</td>\n",
       "      <td>41.454545</td>\n",
       "      <td>89.090909</td>\n",
       "      <td>16.181818</td>\n",
       "    </tr>\n",
       "    <tr>\n",
       "      <th>3</th>\n",
       "      <td>3</td>\n",
       "      <td>32.692308</td>\n",
       "      <td>86.538462</td>\n",
       "      <td>82.128205</td>\n",
       "    </tr>\n",
       "    <tr>\n",
       "      <th>4</th>\n",
       "      <td>4</td>\n",
       "      <td>26.142857</td>\n",
       "      <td>57.228571</td>\n",
       "      <td>48.685714</td>\n",
       "    </tr>\n",
       "    <tr>\n",
       "      <th>5</th>\n",
       "      <td>5</td>\n",
       "      <td>25.608696</td>\n",
       "      <td>26.434783</td>\n",
       "      <td>78.521739</td>\n",
       "    </tr>\n",
       "  </tbody>\n",
       "</table>\n",
       "</div>"
      ],
      "text/plain": [
       "   Cluster        Age  Annual Income (k$)  Spending Score (1-100)\n",
       "0        0  54.960000           53.620000               48.240000\n",
       "1        1  43.750000           25.250000               19.050000\n",
       "2        2  41.454545           89.090909               16.181818\n",
       "3        3  32.692308           86.538462               82.128205\n",
       "4        4  26.142857           57.228571               48.685714\n",
       "5        5  25.608696           26.434783               78.521739"
      ]
     },
     "execution_count": 40,
     "metadata": {},
     "output_type": "execute_result"
    }
   ],
   "source": [
    "averaging = df_hc.groupby('Cluster', as_index = False).mean()\n",
    "averaging"
   ]
  },
  {
   "cell_type": "code",
   "execution_count": 54,
   "metadata": {},
   "outputs": [
    {
     "data": {
      "image/png": "[encoded data removed]",
      "text/plain": [
       "<Figure size 864x360 with 3 Axes>"
      ]
     },
     "metadata": {
      "needs_background": "light"
     },
     "output_type": "display_data"
    }
   ],
   "source": [
    "plt.figure(figsize = (12,5))\n",
    "for i in enumerate(features):\n",
    "    plt.subplot(1, 3, i[0]+1)\n",
    "    sns.barplot(x = 'Cluster', y = i[1], data = averaging, ci = None)\n",
    "    plt.tight_layout()"
   ]
  },
  {
   "cell_type": "code",
   "execution_count": 42,
   "metadata": {},
   "outputs": [
    {
     "data": {
      "text/html": [
       "<div>\n",
       "<style scoped>\n",
       "    .dataframe tbody tr th:only-of-type {\n",
       "        vertical-align: middle;\n",
       "    }\n",
       "\n",
       "    .dataframe tbody tr th {\n",
       "        vertical-align: top;\n",
       "    }\n",
       "\n",
       "    .dataframe thead th {\n",
       "        text-align: right;\n",
       "    }\n",
       "</style>\n",
       "<table border=\"1\" class=\"dataframe\">\n",
       "  <thead>\n",
       "    <tr style=\"text-align: right;\">\n",
       "      <th></th>\n",
       "      <th></th>\n",
       "      <th>Gender</th>\n",
       "    </tr>\n",
       "    <tr>\n",
       "      <th>Cluster</th>\n",
       "      <th>Gender</th>\n",
       "      <th></th>\n",
       "    </tr>\n",
       "  </thead>\n",
       "  <tbody>\n",
       "    <tr>\n",
       "      <th rowspan=\"2\" valign=\"top\">0</th>\n",
       "      <th>Female</th>\n",
       "      <td>25</td>\n",
       "    </tr>\n",
       "    <tr>\n",
       "      <th>Male</th>\n",
       "      <td>25</td>\n",
       "    </tr>\n",
       "    <tr>\n",
       "      <th rowspan=\"2\" valign=\"top\">1</th>\n",
       "      <th>Female</th>\n",
       "      <td>13</td>\n",
       "    </tr>\n",
       "    <tr>\n",
       "      <th>Male</th>\n",
       "      <td>7</td>\n",
       "    </tr>\n",
       "    <tr>\n",
       "      <th rowspan=\"2\" valign=\"top\">2</th>\n",
       "      <th>Female</th>\n",
       "      <td>15</td>\n",
       "    </tr>\n",
       "    <tr>\n",
       "      <th>Male</th>\n",
       "      <td>18</td>\n",
       "    </tr>\n",
       "    <tr>\n",
       "      <th rowspan=\"2\" valign=\"top\">3</th>\n",
       "      <th>Female</th>\n",
       "      <td>21</td>\n",
       "    </tr>\n",
       "    <tr>\n",
       "      <th>Male</th>\n",
       "      <td>18</td>\n",
       "    </tr>\n",
       "    <tr>\n",
       "      <th rowspan=\"2\" valign=\"top\">4</th>\n",
       "      <th>Female</th>\n",
       "      <td>25</td>\n",
       "    </tr>\n",
       "    <tr>\n",
       "      <th>Male</th>\n",
       "      <td>10</td>\n",
       "    </tr>\n",
       "    <tr>\n",
       "      <th rowspan=\"2\" valign=\"top\">5</th>\n",
       "      <th>Female</th>\n",
       "      <td>13</td>\n",
       "    </tr>\n",
       "    <tr>\n",
       "      <th>Male</th>\n",
       "      <td>10</td>\n",
       "    </tr>\n",
       "  </tbody>\n",
       "</table>\n",
       "</div>"
      ],
      "text/plain": [
       "                Gender\n",
       "Cluster Gender        \n",
       "0       Female      25\n",
       "        Male        25\n",
       "1       Female      13\n",
       "        Male         7\n",
       "2       Female      15\n",
       "        Male        18\n",
       "3       Female      21\n",
       "        Male        18\n",
       "4       Female      25\n",
       "        Male        10\n",
       "5       Female      13\n",
       "        Male        10"
      ]
     },
     "execution_count": 42,
     "metadata": {},
     "output_type": "execute_result"
    }
   ],
   "source": [
    "# gender deep dive \n",
    "\n",
    "grouped = pd.DataFrame(df_hc.groupby(['Cluster', 'Gender']).Gender.count())\n",
    "grouped"
   ]
  },
  {
   "cell_type": "markdown",
   "metadata": {},
   "source": [
    "## Interpretasi \n",
    "**Cluster 0** \n",
    "- Age: 54 tahun | Annual Income: 53000 | Spending Score: 48 | Dominated by both\n",
    "- Bapak-bapak dan Ibu-ibu dengan income cukup dan tidak terlalu boros\n",
    "\n",
    "**Cluster 1**\n",
    "- Age: 43 tahun | Annual Income: 25000 | Spending Score: 19 | Dominated by Female\n",
    "- Wanita berumur dengan income sedang dan sangat hemat \n",
    "\n",
    "**Cluster 2**\n",
    "- Age: 41 tahun | Annual Income: 89000 | Spending Score: 16 | Dominated by Male\n",
    "- Bapak-bapak dengan highest income dan super hemat\n",
    "\n",
    "**Cluster 3**\n",
    "- Age: 32 tahun | Annual Income: 86000 | Spending Score: 82 | Dominated by Female\n",
    "- Wanita berumur dengan income tinggi dan super boros\n",
    "\n",
    "**Cluster 4**\n",
    "- Age: 26 tahun | Annual Income: 57000 | Spending Score: 48 | Dominated by Female\n",
    "- Wanita muda dengan income cukup dan tidak terlalu boros\n",
    "\n",
    "**Cluster 5**\n",
    "- Age: 25 tahun | Annual Income: 26000 | Spending Score: 78 | Dominated by Female\n",
    "- Wanita muda dengan income sedikit tapi mereka boros "
   ]
  },
  {
   "cell_type": "markdown",
   "metadata": {},
   "source": [
    "**Visualisasi Cluster**"
   ]
  },
  {
   "cell_type": "code",
   "execution_count": 43,
   "metadata": {},
   "outputs": [
    {
     "data": {
      "text/html": [
       "<div>\n",
       "<style scoped>\n",
       "    .dataframe tbody tr th:only-of-type {\n",
       "        vertical-align: middle;\n",
       "    }\n",
       "\n",
       "    .dataframe tbody tr th {\n",
       "        vertical-align: top;\n",
       "    }\n",
       "\n",
       "    .dataframe thead th {\n",
       "        text-align: right;\n",
       "    }\n",
       "</style>\n",
       "<table border=\"1\" class=\"dataframe\">\n",
       "  <thead>\n",
       "    <tr style=\"text-align: right;\">\n",
       "      <th></th>\n",
       "      <th>Age</th>\n",
       "      <th>Annual Income (k$)</th>\n",
       "      <th>Spending Score (1-100)</th>\n",
       "      <th>Gender_Male</th>\n",
       "    </tr>\n",
       "  </thead>\n",
       "  <tbody>\n",
       "    <tr>\n",
       "      <th>0</th>\n",
       "      <td>-1.424569</td>\n",
       "      <td>-1.738999</td>\n",
       "      <td>-0.434801</td>\n",
       "      <td>1</td>\n",
       "    </tr>\n",
       "    <tr>\n",
       "      <th>1</th>\n",
       "      <td>-1.281035</td>\n",
       "      <td>-1.738999</td>\n",
       "      <td>1.195704</td>\n",
       "      <td>1</td>\n",
       "    </tr>\n",
       "    <tr>\n",
       "      <th>2</th>\n",
       "      <td>-1.352802</td>\n",
       "      <td>-1.700830</td>\n",
       "      <td>-1.715913</td>\n",
       "      <td>0</td>\n",
       "    </tr>\n",
       "    <tr>\n",
       "      <th>3</th>\n",
       "      <td>-1.137502</td>\n",
       "      <td>-1.700830</td>\n",
       "      <td>1.040418</td>\n",
       "      <td>0</td>\n",
       "    </tr>\n",
       "    <tr>\n",
       "      <th>4</th>\n",
       "      <td>-0.563369</td>\n",
       "      <td>-1.662660</td>\n",
       "      <td>-0.395980</td>\n",
       "      <td>0</td>\n",
       "    </tr>\n",
       "  </tbody>\n",
       "</table>\n",
       "</div>"
      ],
      "text/plain": [
       "        Age  Annual Income (k$)  Spending Score (1-100)  Gender_Male\n",
       "0 -1.424569           -1.738999               -0.434801            1\n",
       "1 -1.281035           -1.738999                1.195704            1\n",
       "2 -1.352802           -1.700830               -1.715913            0\n",
       "3 -1.137502           -1.700830                1.040418            0\n",
       "4 -0.563369           -1.662660               -0.395980            0"
      ]
     },
     "execution_count": 43,
     "metadata": {},
     "output_type": "execute_result"
    }
   ],
   "source": [
    "dfmall.head()"
   ]
  },
  {
   "cell_type": "code",
   "execution_count": 44,
   "metadata": {},
   "outputs": [],
   "source": [
    "pca_hc = PCA(n_components = 2)"
   ]
  },
  {
   "cell_type": "code",
   "execution_count": 46,
   "metadata": {},
   "outputs": [],
   "source": [
    "# pecah antara feature & target \n",
    "\n",
    "X_pca_hc = dfmall[['Age', 'Annual Income (k$)', 'Spending Score (1-100)', 'Gender_Male']]\n",
    "Y_pca_hc = y_hc"
   ]
  },
  {
   "cell_type": "code",
   "execution_count": 47,
   "metadata": {},
   "outputs": [],
   "source": [
    "principal_hc = pca_hc.fit_transform(X_pca_hc)"
   ]
  },
  {
   "cell_type": "code",
   "execution_count": 48,
   "metadata": {},
   "outputs": [
    {
     "name": "stdout",
     "output_type": "stream",
     "text": [
      "Explained variance ratio from PCA: [0.4095285 0.3081674]\n"
     ]
    }
   ],
   "source": [
    "print(f'Explained variance ratio from PCA: {pca_hc.explained_variance_ratio_}')"
   ]
  },
  {
   "cell_type": "code",
   "execution_count": 50,
   "metadata": {},
   "outputs": [
    {
     "data": {
      "text/html": [
       "<div>\n",
       "<style scoped>\n",
       "    .dataframe tbody tr th:only-of-type {\n",
       "        vertical-align: middle;\n",
       "    }\n",
       "\n",
       "    .dataframe tbody tr th {\n",
       "        vertical-align: top;\n",
       "    }\n",
       "\n",
       "    .dataframe thead th {\n",
       "        text-align: right;\n",
       "    }\n",
       "</style>\n",
       "<table border=\"1\" class=\"dataframe\">\n",
       "  <thead>\n",
       "    <tr style=\"text-align: right;\">\n",
       "      <th></th>\n",
       "      <th>pc 1</th>\n",
       "      <th>pc 2</th>\n",
       "    </tr>\n",
       "  </thead>\n",
       "  <tbody>\n",
       "    <tr>\n",
       "      <th>0</th>\n",
       "      <td>-0.600438</td>\n",
       "      <td>-1.737179</td>\n",
       "    </tr>\n",
       "    <tr>\n",
       "      <th>1</th>\n",
       "      <td>-1.649886</td>\n",
       "      <td>-1.789124</td>\n",
       "    </tr>\n",
       "    <tr>\n",
       "      <th>2</th>\n",
       "      <td>0.315381</td>\n",
       "      <td>-1.692772</td>\n",
       "    </tr>\n",
       "    <tr>\n",
       "      <th>3</th>\n",
       "      <td>-1.477989</td>\n",
       "      <td>-1.781317</td>\n",
       "    </tr>\n",
       "    <tr>\n",
       "      <th>4</th>\n",
       "      <td>-0.060545</td>\n",
       "      <td>-1.678691</td>\n",
       "    </tr>\n",
       "  </tbody>\n",
       "</table>\n",
       "</div>"
      ],
      "text/plain": [
       "       pc 1      pc 2\n",
       "0 -0.600438 -1.737179\n",
       "1 -1.649886 -1.789124\n",
       "2  0.315381 -1.692772\n",
       "3 -1.477989 -1.781317\n",
       "4 -0.060545 -1.678691"
      ]
     },
     "execution_count": 50,
     "metadata": {},
     "output_type": "execute_result"
    }
   ],
   "source": [
    "df_pca_hc = pd.DataFrame(data = principal_hc, \n",
    "                        columns = ['pc 1', 'pc 2'])\n",
    "df_pca_hc.head()"
   ]
  },
  {
   "cell_type": "code",
   "execution_count": 51,
   "metadata": {},
   "outputs": [
    {
     "data": {
      "text/html": [
       "<div>\n",
       "<style scoped>\n",
       "    .dataframe tbody tr th:only-of-type {\n",
       "        vertical-align: middle;\n",
       "    }\n",
       "\n",
       "    .dataframe tbody tr th {\n",
       "        vertical-align: top;\n",
       "    }\n",
       "\n",
       "    .dataframe thead th {\n",
       "        text-align: right;\n",
       "    }\n",
       "</style>\n",
       "<table border=\"1\" class=\"dataframe\">\n",
       "  <thead>\n",
       "    <tr style=\"text-align: right;\">\n",
       "      <th></th>\n",
       "      <th>pc 1</th>\n",
       "      <th>pc 2</th>\n",
       "      <th>Cluster</th>\n",
       "    </tr>\n",
       "  </thead>\n",
       "  <tbody>\n",
       "    <tr>\n",
       "      <th>0</th>\n",
       "      <td>-0.600438</td>\n",
       "      <td>-1.737179</td>\n",
       "      <td>1</td>\n",
       "    </tr>\n",
       "    <tr>\n",
       "      <th>1</th>\n",
       "      <td>-1.649886</td>\n",
       "      <td>-1.789124</td>\n",
       "      <td>5</td>\n",
       "    </tr>\n",
       "    <tr>\n",
       "      <th>2</th>\n",
       "      <td>0.315381</td>\n",
       "      <td>-1.692772</td>\n",
       "      <td>1</td>\n",
       "    </tr>\n",
       "    <tr>\n",
       "      <th>3</th>\n",
       "      <td>-1.477989</td>\n",
       "      <td>-1.781317</td>\n",
       "      <td>5</td>\n",
       "    </tr>\n",
       "    <tr>\n",
       "      <th>4</th>\n",
       "      <td>-0.060545</td>\n",
       "      <td>-1.678691</td>\n",
       "      <td>1</td>\n",
       "    </tr>\n",
       "  </tbody>\n",
       "</table>\n",
       "</div>"
      ],
      "text/plain": [
       "       pc 1      pc 2  Cluster\n",
       "0 -0.600438 -1.737179        1\n",
       "1 -1.649886 -1.789124        5\n",
       "2  0.315381 -1.692772        1\n",
       "3 -1.477989 -1.781317        5\n",
       "4 -0.060545 -1.678691        1"
      ]
     },
     "execution_count": 51,
     "metadata": {},
     "output_type": "execute_result"
    }
   ],
   "source": [
    "finalhc = df_pca_hc.join(df_hc['Cluster'])\n",
    "finalhc.head()"
   ]
  },
  {
   "cell_type": "code",
   "execution_count": 52,
   "metadata": {},
   "outputs": [
    {
     "data": {
      "image/png": "[encoded data removed]",
      "text/plain": [
       "<Figure size 576x360 with 1 Axes>"
      ]
     },
     "metadata": {
      "needs_background": "light"
     },
     "output_type": "display_data"
    }
   ],
   "source": [
    "plt.figure(figsize = (8,5))\n",
    "\n",
    "plt.title('Clustering Results', size = 20)\n",
    "sns.scatterplot(x = 'pc 1', \n",
    "                y = 'pc 2', \n",
    "                hue = 'Cluster', \n",
    "                data = finalhc, \n",
    "               palette = 'rainbow_r')\n",
    "\n",
    "plt.grid(alpha = 0.5)\n",
    "plt.tight_layout();"
   ]
  },
  {
   "cell_type": "code",
   "execution_count": null,
   "metadata": {},
   "outputs": [],
   "source": []
  }
 ],
 "metadata": {
  "kernelspec": {
   "display_name": "Python 3",
   "language": "python",
   "name": "python3"
  },
  "language_info": {
   "codemirror_mode": {
    "name": "ipython",
    "version": 3
   },
   "file_extension": ".py",
   "mimetype": "text/x-python",
   "name": "python",
   "nbconvert_exporter": "python",
   "pygments_lexer": "ipython3",
   "version": "3.8.5"
  }
 },
 "nbformat": 4,
 "nbformat_minor": 4
}
